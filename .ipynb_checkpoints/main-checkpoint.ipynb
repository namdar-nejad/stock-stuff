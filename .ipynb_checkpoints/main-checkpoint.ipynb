{
 "cells": [
  {
   "cell_type": "code",
   "execution_count": 23,
   "id": "a59a9f90",
   "metadata": {},
   "outputs": [],
   "source": [
    "# !pip install --trusted-host pypi.python.org --trusted-host pypi.org --trusted-host files.pythonhosted.org {}"
   ]
  },
  {
   "cell_type": "code",
   "execution_count": 41,
   "id": "f6086f41",
   "metadata": {},
   "outputs": [],
   "source": [
    "%%capture\n",
    "import sys  \n",
    "!{sys.executable} -m pip install --user yfinance\n",
    "!{sys.executable} -m pip install --user pandas_datareader\n",
    "!{sys.executable} -m pip install --user alpha_vantage\n",
    "!{sys.executable} -m pip install --user matplotlib"
   ]
  },
  {
   "cell_type": "code",
   "execution_count": 43,
   "id": "90fd366f",
   "metadata": {
    "scrolled": true
   },
   "outputs": [],
   "source": [
    "import yfinance as yf\n",
    "import pandas_datareader as pdr\n",
    "from alpha_vantage.timeseries import TimeSeries\n",
    "import matplotlib.pyplot as plt"
   ]
  },
  {
   "cell_type": "code",
   "execution_count": null,
   "id": "234a54a1",
   "metadata": {},
   "outputs": [],
   "source": []
  },
  {
   "cell_type": "code",
   "execution_count": 53,
   "id": "a69eb411",
   "metadata": {},
   "outputs": [
    {
     "name": "stdout",
     "output_type": "stream",
     "text": [
      "market price  721.94\n",
      "previous close price  734\n"
     ]
    }
   ],
   "source": [
    "stock_info = yf.Ticker('TSLA').info\n",
    "# stock_info.keys() for other properties you can explore\n",
    "market_price = stock_info['regularMarketPrice']\n",
    "previous_close_price = stock_info['regularMarketPreviousClose']\n",
    "print('market price ', market_price)\n",
    "print('previous close price ', previous_close_price)"
   ]
  },
  {
   "cell_type": "code",
   "execution_count": 52,
   "id": "23244522",
   "metadata": {},
   "outputs": [
    {
     "name": "stdout",
     "output_type": "stream",
     "text": [
      "market price  720.97\n",
      "previous close price  734\n"
     ]
    }
   ],
   "source": [
    "stock_info = yf.Ticker('TSLA').info\n",
    "# stock_info.keys() for other properties you can explore\n",
    "market_price = stock_info['regularMarketPrice']\n",
    "previous_close_price = stock_info['regularMarketPreviousClose']\n",
    "print('market price ', market_price)\n",
    "print('previous close price ', previous_close_price)"
   ]
  },
  {
   "cell_type": "code",
   "execution_count": 51,
   "id": "90068eb4",
   "metadata": {},
   "outputs": [
    {
     "name": "stdout",
     "output_type": "stream",
     "text": [
      "market price  721.95\n",
      "previous close price  734\n"
     ]
    }
   ],
   "source": [
    "stock_info = yf.Ticker('TSLA').info\n",
    "# stock_info.keys() for other properties you can explore\n",
    "market_price = stock_info['regularMarketPrice']\n",
    "previous_close_price = stock_info['regularMarketPreviousClose']\n",
    "print('market price ', market_price)\n",
    "print('previous close price ', previous_close_price)"
   ]
  },
  {
   "cell_type": "code",
   "execution_count": null,
   "id": "79a41a48",
   "metadata": {},
   "outputs": [],
   "source": []
  }
 ],
 "metadata": {
  "kernelspec": {
   "display_name": "Python 3 (ipykernel)",
   "language": "python",
   "name": "python3"
  },
  "language_info": {
   "codemirror_mode": {
    "name": "ipython",
    "version": 3
   },
   "file_extension": ".py",
   "mimetype": "text/x-python",
   "name": "python",
   "nbconvert_exporter": "python",
   "pygments_lexer": "ipython3",
   "version": "3.9.1"
  }
 },
 "nbformat": 4,
 "nbformat_minor": 5
}
