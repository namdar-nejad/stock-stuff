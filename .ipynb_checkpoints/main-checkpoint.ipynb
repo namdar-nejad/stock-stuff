{
 "cells": [
  {
   "cell_type": "code",
   "execution_count": 23,
   "id": "a59a9f90",
   "metadata": {},
   "outputs": [],
   "source": [
    "# !pip install --trusted-host pypi.python.org --trusted-host pypi.org --trusted-host files.pythonhosted.org {}"
   ]
  },
  {
   "cell_type": "code",
   "execution_count": 1,
   "id": "2ab04489",
   "metadata": {},
   "outputs": [],
   "source": [
    "%run tickers.ipynb"
   ]
  },
  {
   "cell_type": "code",
   "execution_count": 2,
   "id": "f6086f41",
   "metadata": {},
   "outputs": [],
   "source": [
    "%%capture\n",
    "import sys  \n",
    "!{sys.executable} -m pip install --user yfinance\n",
    "!{sys.executable} -m pip install --user pandas_datareader\n",
    "!{sys.executable} -m pip install --user alpha_vantage\n",
    "!{sys.executable} -m pip install --user matplotlib\n",
    "!{sys.executable} -m pip install --user requests_html\n",
    "!{sys.executable} -m pip install --user yahoo_fin\n",
    "!{sys.executable} -m pip install --user fix-yahoo-finance"
   ]
  },
  {
   "cell_type": "code",
   "execution_count": 2,
   "id": "90fd366f",
   "metadata": {
    "scrolled": true
   },
   "outputs": [],
   "source": [
    "import yfinance as yf\n",
    "import yahoo_fin.stock_info as si\n",
    "import time\n",
    "import random\n",
    "# import pandas_datareader as pdr\n",
    "# from alpha_vantage.timeseries import TimeSeries\n",
    "# import matplotlib.pyplot as plt"
   ]
  },
  {
   "cell_type": "code",
   "execution_count": 3,
   "id": "a69eb411",
   "metadata": {},
   "outputs": [],
   "source": [
    "# stock_info = yf.Ticker('TSLA').info\n",
    "# # stock_info.keys() for other properties you can explore\n",
    "# market_price = stock_info['regularMarketPrice']\n",
    "# previous_close_price = stock_info['regularMarketPreviousClose']\n",
    "# print('market price ', market_price)\n",
    "# print('previous close price ', previous_close_price)"
   ]
  },
  {
   "cell_type": "code",
   "execution_count": 4,
   "id": "abaeaef2",
   "metadata": {},
   "outputs": [],
   "source": [
    "def print_stock(tick, interval=1):\n",
    "    while 1:\n",
    "        market_price = stock_info['regularMarketPrice']\n",
    "        previous_close_price = stock_info['regularMarketPreviousClose']\n",
    "        print(market_price)\n",
    "        time.sleep(interval)"
   ]
  },
  {
   "cell_type": "code",
   "execution_count": 5,
   "id": "65ee4974",
   "metadata": {},
   "outputs": [],
   "source": [
    "def get_pe(tick):\n",
    "   \n",
    "    try: \n",
    "        symbol = yf.Ticker(tick).info\n",
    "        tpe = symbol[\"trailingPE\"]\n",
    "    except:\n",
    "        tpe = None\n",
    "        \n",
    "    return tpe"
   ]
  },
  {
   "cell_type": "code",
   "execution_count": null,
   "id": "1c00cda8",
   "metadata": {},
   "outputs": [
    {
     "name": "stdout",
     "output_type": "stream",
     "text": [
      "LFVN  -->  5.371901\n",
      "MTEX  -->  6.220403\n",
      "RFP  -->  3.694517\n",
      "UFPI  -->  7.796287\n",
      "DFIN  -->  6.7753625\n",
      "SMBK  -->  11.8032\n",
      "NEWT  -->  6.66757\n",
      "LFT  -->  8.013469\n",
      "FSI  -->  7.964286\n",
      "CBSH  -->  15.87358\n",
      "OLN  -->  6.7623963\n",
      "HYG  -->  9.569664\n",
      "CVCO  -->  12.5511265\n",
      "TURN  -->  4.4347825\n",
      "EOG  -->  15.082604\n",
      "REX  -->  9.778387\n",
      "HDSN  -->  12.89855\n",
      "SPTN  -->  16.092684\n",
      "APA  -->  14.683397\n",
      "CARR  -->  13.011646\n",
      "OEC  -->  7.7285066\n",
      "PLPC  -->  8.122393\n",
      "MMS  -->  14.377368\n",
      "TTSH  -->  15.620691\n",
      "VOYA  -->  3.6894372\n",
      "TRST  -->  9.17412\n",
      "WASH  -->  11.353041\n",
      "USX  -->  14.465116\n",
      "YRD  -->  7.28\n",
      "XPH  -->  5.976467\n",
      "LEVI  -->  11.528059\n",
      "FHN  -->  12.880953\n",
      "MHN  -->  11.880342\n",
      "CORZ  -->  12.03125\n",
      "FRG  -->  4.359004\n",
      "LOGI  -->  13.029485\n",
      "EXPD  -->  13.438935\n",
      "ENIA  -->  15.514285\n",
      "DIOD  -->  14.45\n",
      "GTES  -->  12\n",
      "NUO  -->  17.582872\n",
      "IVZ  -->  6.0802255\n",
      "FF  -->  10.916667\n",
      "WRK  -->  14.657196\n",
      "IPGP  -->  18.75194\n",
      "SNTG  -->  4.1221375\n",
      "BDJ  -->  5.11721\n",
      "AVNT  -->  17.988281\n",
      "UTF  -->  4.55912\n",
      "HCXY  -->  19.409939\n"
     ]
    }
   ],
   "source": [
    "for tick in get_nyse_tickers():\n",
    "    pe = get_pe(tick)\n",
    "    if not (pe == None) and pe < 20:\n",
    "        print(tick, \" --> \", pe)"
   ]
  },
  {
   "cell_type": "code",
   "execution_count": null,
   "id": "fe4d5011",
   "metadata": {},
   "outputs": [],
   "source": []
  }
 ],
 "metadata": {
  "kernelspec": {
   "display_name": "Python 3 (ipykernel)",
   "language": "python",
   "name": "python3"
  },
  "language_info": {
   "codemirror_mode": {
    "name": "ipython",
    "version": 3
   },
   "file_extension": ".py",
   "mimetype": "text/x-python",
   "name": "python",
   "nbconvert_exporter": "python",
   "pygments_lexer": "ipython3",
   "version": "3.9.1"
  }
 },
 "nbformat": 4,
 "nbformat_minor": 5
}
