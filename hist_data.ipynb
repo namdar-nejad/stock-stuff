{
 "cells": [
  {
   "cell_type": "code",
   "execution_count": 68,
   "id": "d4045c75",
   "metadata": {},
   "outputs": [],
   "source": [
    "%%capture\n",
    "import sys  \n",
    "!{sys.executable} -m pip install --user polygon-api-client~=1.0.0b\n",
    "!{sys.executable} -m pip install polygon\n",
    "!{sys.executable} -m pip install termcolor"
   ]
  },
  {
   "cell_type": "code",
   "execution_count": 69,
   "id": "1ffe1f3c",
   "metadata": {},
   "outputs": [],
   "source": [
    "%run tickers.ipynb"
   ]
  },
  {
   "cell_type": "code",
   "execution_count": 70,
   "id": "01fdbb87",
   "metadata": {},
   "outputs": [],
   "source": [
    "import time\n",
    "from polygon import WebSocketClient, websocket, RESTClient"
   ]
  },
  {
   "cell_type": "code",
   "execution_count": 72,
   "id": "080b46ad",
   "metadata": {},
   "outputs": [],
   "source": [
    "KEY = 'odp9w1pbsW1iyUuA02BBR65Ot7bwv_vz'\n",
    "client = RESTClient(api_key = KEY)"
   ]
  },
  {
   "cell_type": "code",
   "execution_count": 73,
   "id": "6949e876",
   "metadata": {},
   "outputs": [],
   "source": [
    "def my_custom_process_message(message):\n",
    "    print(\"this is my custom message processing\", message)"
   ]
  },
  {
   "cell_type": "code",
   "execution_count": 74,
   "id": "b46f97dd",
   "metadata": {},
   "outputs": [],
   "source": [
    "def my_custom_error_handler(ws, error):\n",
    "    print(\"this is my custom error handler\", error)"
   ]
  },
  {
   "cell_type": "code",
   "execution_count": 75,
   "id": "1f1acc9b",
   "metadata": {},
   "outputs": [],
   "source": [
    "def my_custom_close_handler(ws):\n",
    "    print(\"this is my custom close handler\")"
   ]
  },
  {
   "cell_type": "code",
   "execution_count": 66,
   "id": "d4c65874",
   "metadata": {},
   "outputs": [
    {
     "data": {
      "text/plain": [
       "[PreviousCloseAgg(ticker='GOOG', close=2263.22, high=2297.13, low=2202.27, open=2238.76, timestamp=1652385600000, volume=2070944.0, vwap=2250.0041)]"
      ]
     },
     "execution_count": 66,
     "metadata": {},
     "output_type": "execute_result"
    }
   ],
   "source": [
    "client.get_previous_close_agg(\"GOOG\")"
   ]
  },
  {
   "cell_type": "code",
   "execution_count": 78,
   "id": "1235cdea",
   "metadata": {},
   "outputs": [
    {
     "data": {
      "text/plain": [
       "['API_KEY',\n",
       " 'BASE',\n",
       " '__class__',\n",
       " '__delattr__',\n",
       " '__dict__',\n",
       " '__dir__',\n",
       " '__doc__',\n",
       " '__eq__',\n",
       " '__format__',\n",
       " '__ge__',\n",
       " '__getattribute__',\n",
       " '__gt__',\n",
       " '__hash__',\n",
       " '__init__',\n",
       " '__init_subclass__',\n",
       " '__le__',\n",
       " '__lt__',\n",
       " '__module__',\n",
       " '__ne__',\n",
       " '__new__',\n",
       " '__reduce__',\n",
       " '__reduce_ex__',\n",
       " '__repr__',\n",
       " '__setattr__',\n",
       " '__sizeof__',\n",
       " '__str__',\n",
       " '__subclasshook__',\n",
       " '__weakref__',\n",
       " '_decode',\n",
       " '_get',\n",
       " '_get_params',\n",
       " '_paginate',\n",
       " '_paginate_iter',\n",
       " 'client',\n",
       " 'get_aggs',\n",
       " 'get_daily_open_close_agg',\n",
       " 'get_exchanges',\n",
       " 'get_grouped_daily_aggs',\n",
       " 'get_last_crypto_trade',\n",
       " 'get_last_quote',\n",
       " 'get_last_trade',\n",
       " 'get_market_holidays',\n",
       " 'get_market_status',\n",
       " 'get_previous_close_agg',\n",
       " 'get_snapshot_all',\n",
       " 'get_snapshot_crypto_book',\n",
       " 'get_snapshot_direction',\n",
       " 'get_snapshot_option',\n",
       " 'get_snapshot_ticker',\n",
       " 'get_ticker_details',\n",
       " 'get_ticker_types',\n",
       " 'list_conditions',\n",
       " 'list_dividends',\n",
       " 'list_quotes',\n",
       " 'list_splits',\n",
       " 'list_ticker_news',\n",
       " 'list_tickers',\n",
       " 'list_trades',\n",
       " 'retries',\n",
       " 'time_mult',\n",
       " 'timeout',\n",
       " 'verbose',\n",
       " 'vx']"
      ]
     },
     "execution_count": 78,
     "metadata": {},
     "output_type": "execute_result"
    }
   ],
   "source": [
    "dir(client)"
   ]
  },
  {
   "cell_type": "code",
   "execution_count": null,
   "id": "e33ff7db",
   "metadata": {},
   "outputs": [],
   "source": [
    "# https://polygon-api-client.readthedocs.io/en/latest/Aggs.html\n",
    "# https://polygon.io/dashboard/api-keys\n",
    "# "
   ]
  },
  {
   "cell_type": "code",
   "execution_count": 79,
   "id": "1af4943e",
   "metadata": {},
   "outputs": [
    {
     "data": {
      "text/plain": [
       "<generator object BaseClient._paginate_iter at 0x115219200>"
      ]
     },
     "execution_count": 79,
     "metadata": {},
     "output_type": "execute_result"
    }
   ],
   "source": [
    "client.list_ticker_news('GOOG')"
   ]
  },
  {
   "cell_type": "code",
   "execution_count": 82,
   "id": "7c6cd4ee",
   "metadata": {},
   "outputs": [
    {
     "name": "stdout",
     "output_type": "stream",
     "text": [
      "\u001b[31m\"hi\"\u001b[0m\n"
     ]
    }
   ],
   "source": [
    "print(\"\\x1b[31m\\\"hi\\\"\\x1b[0m\")"
   ]
  },
  {
   "cell_type": "code",
   "execution_count": 84,
   "id": "8ec24303",
   "metadata": {},
   "outputs": [
    {
     "name": "stdout",
     "output_type": "stream",
     "text": [
      "Collecting termcolor\n",
      "  Downloading termcolor-1.1.0.tar.gz (3.9 kB)\n",
      "Building wheels for collected packages: termcolor\n",
      "  Building wheel for termcolor (setup.py) ... \u001b[?25ldone\n",
      "\u001b[?25h  Created wheel for termcolor: filename=termcolor-1.1.0-py3-none-any.whl size=4829 sha256=742f27b699deb91ae03b6e7ed3d5cff781ee859a95e7d92d7f752324bf737a28\n",
      "  Stored in directory: /Users/namdar/Library/Caches/pip/wheels/b6/0d/90/0d1bbd99855f99cb2f6c2e5ff96f8023fad8ec367695f7d72d\n",
      "Successfully built termcolor\n",
      "Installing collected packages: termcolor\n",
      "Successfully installed termcolor-1.1.0\n",
      "\u001b[33mWARNING: You are using pip version 21.0.1; however, version 22.1 is available.\n",
      "You should consider upgrading via the '/usr/local/opt/python@3.9/bin/python3.9 -m pip install --upgrade pip' command.\u001b[0m\n"
     ]
    }
   ],
   "source": []
  },
  {
   "cell_type": "code",
   "execution_count": 87,
   "id": "43e95e81",
   "metadata": {},
   "outputs": [
    {
     "name": "stdout",
     "output_type": "stream",
     "text": [
      "\u001b[38;2;255;0;0mHello, World \u001b[38;2;255;255;255m\n"
     ]
    }
   ],
   "source": []
  },
  {
   "cell_type": "code",
   "execution_count": null,
   "id": "e4e8383f",
   "metadata": {},
   "outputs": [],
   "source": []
  }
 ],
 "metadata": {
  "kernelspec": {
   "display_name": "Python 3 (ipykernel)",
   "language": "python",
   "name": "python3"
  },
  "language_info": {
   "codemirror_mode": {
    "name": "ipython",
    "version": 3
   },
   "file_extension": ".py",
   "mimetype": "text/x-python",
   "name": "python",
   "nbconvert_exporter": "python",
   "pygments_lexer": "ipython3",
   "version": "3.9.1"
  }
 },
 "nbformat": 4,
 "nbformat_minor": 5
}
