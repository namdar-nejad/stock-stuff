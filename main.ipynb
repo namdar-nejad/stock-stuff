{
 "cells": [
  {
   "cell_type": "code",
   "execution_count": 23,
   "id": "a59a9f90",
   "metadata": {},
   "outputs": [],
   "source": [
    "# !pip install --trusted-host pypi.python.org --trusted-host pypi.org --trusted-host files.pythonhosted.org {}"
   ]
  },
  {
   "cell_type": "code",
   "execution_count": 1,
   "id": "2ab04489",
   "metadata": {},
   "outputs": [],
   "source": [
    "%run tickers.ipynb"
   ]
  },
  {
   "cell_type": "code",
   "execution_count": 3,
   "id": "f6086f41",
   "metadata": {},
   "outputs": [],
   "source": [
    "%%capture\n",
    "import sys  \n",
    "!{sys.executable} -m pip install --user yfinance\n",
    "!{sys.executable} -m pip install --user pandas_datareader\n",
    "!{sys.executable} -m pip install --user alpha_vantage\n",
    "!{sys.executable} -m pip install --user matplotlib\n",
    "!{sys.executable} -m pip install --user requests_html\n",
    "!{sys.executable} -m pip install --user yahoo_fin\n",
    "!{sys.executable} -m pip install --user fix-yahoo-finance\n",
    "!{sys.executable} -m pip install termcolor"
   ]
  },
  {
   "cell_type": "code",
   "execution_count": 2,
   "id": "90fd366f",
   "metadata": {
    "scrolled": true
   },
   "outputs": [],
   "source": [
    "import yfinance as yf\n",
    "import yahoo_fin.stock_info as si\n",
    "import time\n",
    "import random\n",
    "from termcolor import colored\n",
    "# import pandas_datareader as pdr\n",
    "# from alpha_vantage.timeseries import TimeSeries\n",
    "# import matplotlib.pyplot as plt"
   ]
  },
  {
   "cell_type": "code",
   "execution_count": 3,
   "id": "a69eb411",
   "metadata": {},
   "outputs": [],
   "source": [
    "# stock_info = yf.Ticker('TSLA').info\n",
    "# # stock_info.keys() for other properties you can explore\n",
    "# market_price = stock_info['regularMarketPrice']\n",
    "# previous_close_price = stock_info['regularMarketPreviousClose']\n",
    "# print('market price ', market_price)\n",
    "# print('previous close price ', previous_close_price)"
   ]
  },
  {
   "cell_type": "code",
   "execution_count": 4,
   "id": "abaeaef2",
   "metadata": {},
   "outputs": [],
   "source": [
    "def print_stock(tick, interval=1):\n",
    "    while 1:\n",
    "        market_price = stock_info['regularMarketPrice']\n",
    "        previous_close_price = stock_info['regularMarketPreviousClose']\n",
    "        print(market_price)\n",
    "        time.sleep(interval)"
   ]
  },
  {
   "cell_type": "code",
   "execution_count": 5,
   "id": "65ee4974",
   "metadata": {},
   "outputs": [],
   "source": [
    "def get_pe(tick):\n",
    "   \n",
    "    try: \n",
    "        symbol = yf.Ticker(tick).info\n",
    "        tpe = symbol[\"trailingPE\"]\n",
    "    except:\n",
    "        tpe = None\n",
    "        \n",
    "    return tpe"
   ]
  },
  {
   "cell_type": "code",
   "execution_count": 6,
   "id": "1c00cda8",
   "metadata": {},
   "outputs": [],
   "source": [
    "# for tick in get_nyse_tickers():\n",
    "#     pe = get_pe(tick)\n",
    "#     if not (pe == None) and pe < 20:\n",
    "#         print(tick, \" --> \", pe)"
   ]
  },
  {
   "cell_type": "code",
   "execution_count": 12,
   "id": "3383c633",
   "metadata": {},
   "outputs": [],
   "source": [
    "def print_green(txt):\n",
    "    print(colored(txt, 'green'))"
   ]
  },
  {
   "cell_type": "code",
   "execution_count": 14,
   "id": "b09ed2fa",
   "metadata": {},
   "outputs": [],
   "source": [
    "def print_red(txt):\n",
    "    print(colored(txt, 'red'))"
   ]
  },
  {
   "cell_type": "code",
   "execution_count": 23,
   "id": "b551e243",
   "metadata": {},
   "outputs": [],
   "source": [
    "def all_to_str(lis):\n",
    "    rtn = \"\"\n",
    "    for i in lis:\n",
    "        rtn += \" \"+ str(i)\n",
    "        \n",
    "    return rtn"
   ]
  },
  {
   "cell_type": "code",
   "execution_count": null,
   "id": "fe4d5011",
   "metadata": {},
   "outputs": [],
   "source": [
    "def pe_freshold(ticks, from_=1, to_=20):\n",
    "\n",
    "    rtn = set()\n",
    "    \n",
    "    for tick in ticks:\n",
    "        pe = get_pe(tick)\n",
    "        if not (pe == None) and pe>from_ and pe<to_:\n",
    "            if pe>(to_-from_)/2:\n",
    "                print_green(all_to_str([tick, \" --> \", pe]))\n",
    "            else:\n",
    "                print_red(all_to_str([tick, \" --> \", pe]))\n",
    "            rtn.add((tick, pe))\n",
    "            \n",
    "    return rtn"
   ]
  },
  {
   "cell_type": "code",
   "execution_count": null,
   "id": "813553c7",
   "metadata": {},
   "outputs": [],
   "source": [
    "pe_freshold(get_nyse_tickers(), to_=20)"
   ]
  },
  {
   "cell_type": "code",
   "execution_count": null,
   "id": "05c9d4b0",
   "metadata": {},
   "outputs": [],
   "source": []
  }
 ],
 "metadata": {
  "kernelspec": {
   "display_name": "Python 3 (ipykernel)",
   "language": "python",
   "name": "python3"
  },
  "language_info": {
   "codemirror_mode": {
    "name": "ipython",
    "version": 3
   },
   "file_extension": ".py",
   "mimetype": "text/x-python",
   "name": "python",
   "nbconvert_exporter": "python",
   "pygments_lexer": "ipython3",
   "version": "3.9.1"
  }
 },
 "nbformat": 4,
 "nbformat_minor": 5
}
