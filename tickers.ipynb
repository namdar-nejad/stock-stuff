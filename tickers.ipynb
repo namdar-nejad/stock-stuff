{
 "cells": [
  {
   "cell_type": "code",
   "execution_count": 52,
   "id": "682e132b",
   "metadata": {},
   "outputs": [],
   "source": [
    "%%capture\n",
    "import sys\n",
    "!{sys.executable} -m pip install --user yahoo_fin"
   ]
  },
  {
   "cell_type": "code",
   "execution_count": 69,
   "id": "74e2b831",
   "metadata": {},
   "outputs": [],
   "source": [
    "from yahoo_fin import stock_info as si\n",
    "import pandas as pd"
   ]
  },
  {
   "cell_type": "code",
   "execution_count": 70,
   "id": "3f3c3cf9",
   "metadata": {},
   "outputs": [],
   "source": [
    "def get_sp_tickers():\n",
    "    sym = set( symbol for symbol in pd.DataFrame(si.tickers_sp500())[0].values.tolist())\n",
    "    return remove_extra(sym)[0]"
   ]
  },
  {
   "cell_type": "code",
   "execution_count": 71,
   "id": "16ee7617",
   "metadata": {},
   "outputs": [],
   "source": [
    "def get_nas_tickers():\n",
    "    sym = set( symbol for symbol in pd.DataFrame(si.tickers_nasdaq())[0].values.tolist())\n",
    "    return remove_extra(sym)[0]"
   ]
  },
  {
   "cell_type": "code",
   "execution_count": 72,
   "id": "e020467d",
   "metadata": {},
   "outputs": [],
   "source": [
    "def get_dow_tickers():\n",
    "    sym = set( symbol for symbol in pd.DataFrame(si.tickers_dow())[0].values.tolist())\n",
    "    return remove_extra(sym)[0]"
   ]
  },
  {
   "cell_type": "code",
   "execution_count": 73,
   "id": "55cf1109",
   "metadata": {},
   "outputs": [],
   "source": [
    "def get_other_tickers():\n",
    "    sym = set( symbol for symbol in pd.DataFrame(si.tickers_other())[0].values.tolist())\n",
    "    return remove_extra(sym)[0]"
   ]
  },
  {
   "cell_type": "code",
   "execution_count": 74,
   "id": "002a2899",
   "metadata": {},
   "outputs": [],
   "source": [
    "def get_nyse_tickers():\n",
    "    set.union(get_sp_tickers(), get_nas_tickers(), get_dow_tickers(), get_other_tickers())\n",
    "    return set.union(get_sp_tickers(), get_nas_tickers(), get_dow_tickers(), get_other_tickers())"
   ]
  },
  {
   "cell_type": "code",
   "execution_count": 75,
   "id": "ef0a86ca",
   "metadata": {},
   "outputs": [],
   "source": [
    "def remove_extra(syms):\n",
    "    \n",
    "    suffix_list = ['W', 'R', 'P', 'Q']\n",
    "    \n",
    "    rtn = set()\n",
    "    rmv = set()\n",
    "    \n",
    "    for sym in syms:\n",
    "        if len(sym) > 4 and sym[-1] in suffix_list:\n",
    "            rmv.add(sym)\n",
    "        else:\n",
    "            rtn.add(sym)\n",
    "            \n",
    "    return rtn, rmv"
   ]
  },
  {
   "cell_type": "code",
   "execution_count": null,
   "id": "316d105e",
   "metadata": {},
   "outputs": [],
   "source": []
  },
  {
   "cell_type": "code",
   "execution_count": null,
   "id": "5906471f",
   "metadata": {},
   "outputs": [],
   "source": []
  }
 ],
 "metadata": {
  "kernelspec": {
   "display_name": "Python 3 (ipykernel)",
   "language": "python",
   "name": "python3"
  },
  "language_info": {
   "codemirror_mode": {
    "name": "ipython",
    "version": 3
   },
   "file_extension": ".py",
   "mimetype": "text/x-python",
   "name": "python",
   "nbconvert_exporter": "python",
   "pygments_lexer": "ipython3",
   "version": "3.9.1"
  }
 },
 "nbformat": 4,
 "nbformat_minor": 5
}
